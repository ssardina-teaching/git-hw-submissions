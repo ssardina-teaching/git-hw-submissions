{
 "cells": [
  {
   "attachments": {},
   "cell_type": "markdown",
   "metadata": {},
   "source": [
    "# Extract Game Ids\n",
    "\n",
    "This notebook allows to extract the games id for a season in a round by inspecting the web pages of the form \n",
    "\n",
    "```\n",
    "https://nbl.com.au/schedule?round=<ROUND-ID>&season=<SEASON-ID>\n",
    "```\n",
    "\n",
    "For example this is pre-season for 2022-2033:\n",
    "\n",
    "https://nbl.com.au/schedule?round=PS&season=34173\n",
    "\n",
    "Those pages expose game links of the form `https://nbl.com.au/games/<GAME-ID>`, but only after Javascript has run. So, we need to use a virtual webdriver to actually browse the page (in silent) after that. We do this with module `selenium` that provides drivers for browsers. Here is [an explanation](https://stackoverflow.com/questions/11047348/is-this-possible-to-load-the-page-after-the-javascript-execute-using-python) how to load a page after Javascript has executed.\n",
    "\n",
    "**Note:** the original page, before Javascript, will also expose the game ids in structures of the form `matchId:<GAME-ID>`, but it will give all of them of the season, without filtering on the round.\n"
   ]
  },
  {
   "attachments": {},
   "cell_type": "markdown",
   "metadata": {},
   "source": [
    "## Option 1: Via Salenium virtual browser"
   ]
  },
  {
   "cell_type": "code",
   "execution_count": null,
   "metadata": {},
   "outputs": [],
   "source": [
    "import re\n",
    "\n",
    "# Download geckodriver (https://github.com/mozilla/geckodriver/releases) and put it in path\n",
    "# Salenium webdriver: https://www.selenium.dev/documentation/overview/\n",
    "from selenium import webdriver\n",
    "from selenium.webdriver.firefox.options import Options"
   ]
  },
  {
   "cell_type": "code",
   "execution_count": null,
   "metadata": {},
   "outputs": [],
   "source": [
    "# def get_game_ids(season, round) -> list:\n",
    "# ROUNDS = list(range(1, 22)) + [\"SF\", \"F\"]\n",
    "# SEASON=27725    # 2020-2021\n",
    "# SEASON=30249    # 2021-2022\n",
    "\n",
    "ROUNDS = list(range(1, 19)) + [\"PS\"]\n",
    "# ROUNDS = [\"F\"]\n",
    "# ROUNDS = [\"PS\"]\n",
    "SEASON=34173    # 2022-2023\n",
    "SEASON=35847    # 2023-2024\n",
    "\n",
    "def get_url(season, round):\n",
    "    return f\"https://nbl.com.au/schedule?round={round}&season={season}\"\n",
    "\n",
    "\n",
    "print(\"Season\", SEASON)\n",
    "print(\"Rounds: \", ROUNDS)"
   ]
  },
  {
   "cell_type": "code",
   "execution_count": null,
   "metadata": {},
   "outputs": [],
   "source": [
    "# We need an actual browser so that the JavaScript is loaded and the links https://.../games/<game_id> are generated\n",
    "options = Options()\n",
    "options.headless = True\n",
    "browser = webdriver.Firefox(options=options)\n",
    "# browser = webdriver.Firefox(options=options, executable_path=r'C:\\Utility\\BrowserDrivers\\geckodriver.exe')\n",
    "\n",
    "html_texts = []\n",
    "\n",
    "for rno in ROUNDS:\n",
    "    url = get_url(SEASON, rno)\n",
    "    print(f\"Extracting web HTML for round {rno} at \", url)\n",
    "    browser.get(url)\n",
    "    html_text = browser.page_source\n",
    "    html_texts.append((rno, html_text))\n",
    "\n",
    "browser.quit()"
   ]
  },
  {
   "attachments": {},
   "cell_type": "markdown",
   "metadata": {},
   "source": [
    "Now find all the game ids and generate list as per round."
   ]
  },
  {
   "cell_type": "code",
   "execution_count": null,
   "metadata": {},
   "outputs": [],
   "source": [
    "pattern = r'/games/(\\d+)'\n",
    "\n",
    "MAP_ROUNDS = { \"SF\" : 100, \"F\" : 101, \"PS\" : 0}\n",
    "\n",
    "games = []\n",
    "for (rnd, html_text) in html_texts:\n",
    "    game_ids = set(re.findall(pattern, html_text))\n",
    "    print(f\"Number of games extracted for round {rnd}: \", len(game_ids))\n",
    "\n",
    "    games.extend([(x, rnd if isinstance(rnd, int) else MAP_ROUNDS[rnd]) for x in game_ids])\n",
    "\n",
    "print(\"Total games:\", len(games))\n",
    "print(games)"
   ]
  },
  {
   "cell_type": "code",
   "execution_count": null,
   "metadata": {},
   "outputs": [],
   "source": [
    "print(html_texts[1][1])"
   ]
  },
  {
   "attachments": {},
   "cell_type": "markdown",
   "metadata": {},
   "source": [
    "### Check for new games from previous set\n",
    "\n",
    "Replace `PREVIOUS` with the existing set of games."
   ]
  },
  {
   "cell_type": "code",
   "execution_count": null,
   "metadata": {},
   "outputs": [],
   "source": [
    "PREVIOUS = [('2116412', 1), ('2116391', 1), ('2116406', 1), ('2116390', 1), ('2116402', 1), ('2120056', 0), ('2122059', 0), ('2134935', 0), ('2120058', 0), ('2120079', 0), ('2124207', 0), ('2116576', 0), ('2120054', 0), ('2120077', 0), ('2141127', 0), ('2120052', 0), ('2120055', 0), ('2122060', 0), ('2141126', 0), ('2120057', 0), ('2135116', 0), ('2135117', 0), ('2120080', 0), ('2120051', 0), ('2116579', 0), ('2120049', 0), ('2120050', 0), ('2120078', 0), ('2120048', 0), ('2120053', 0), ('2116381', 2), ('2116379', 2), ('2116429', 2), ('2116437', 2), ('2116420', 2), ('2116436', 2), ('2116423', 2), ('2116435', 2), ('2116384', 3), ('2116518', 3), ('2116419', 3), ('2116422', 3), ('2116386', 3), ('2116385', 3), ('2116407', 3), ('2116413', 3), ('2116378', 4), ('2116389', 4), ('2116380', 4), ('2116382', 4), ('2116388', 4), ('2116387', 4), ('2116383', 4), ('2116411', 4), ('2116396', 5), ('2116417', 5), ('2116408', 5), ('2116414', 5), ('2116403', 5), ('2116393', 5), ('2116418', 5), ('2116400', 5), ('2116394', 6), ('2116424', 6), ('2116421', 6), ('2116401', 6), ('2116430', 6), ('2116432', 6), ('2116398', 6), ('2116427', 7), ('2116434', 7), ('2116410', 7), ('2116428', 7), ('2116433', 7), ('2116416', 7), ('2116405', 7), ('2116409', 8), ('2116397', 8), ('2116404', 8), ('2116395', 8), ('2116415', 8), ('2116399', 8), ('2116426', 9), ('2116438', 9), ('2116431', 9), ('2116455', 9), ('2116425', 9), ('2116454', 9), ('2116448', 9), ('2116443', 9), ('2116486', 10), ('2116444', 10), ('2116463', 10), ('2116473', 10), ('2116487', 10), ('2116439', 10), ('2116468', 10), ('2116478', 10), ('2116469', 11), ('2116456', 11), ('2116459', 11), ('2116449', 11), ('2116483', 11), ('2116482', 11), ('2116440', 11), ('2116475', 11), ('2116445', 11), ('2116453', 12), ('2116471', 12), ('2116450', 12), ('2116480', 12), ('2116467', 12), ('2116477', 12), ('2116462', 12), ('2116447', 13), ('2116442', 13), ('2116465', 13), ('2116452', 13), ('2116458', 13), ('2116460', 13), ('2116485', 13), ('2116441', 14), ('2116446', 14), ('2116474', 14), ('2116457', 14), ('2116484', 14), ('2116479', 14), ('2116470', 14), ('2116451', 14), ('2116481', 15), ('2116488', 15), ('2116466', 15), ('2116492', 15), ('2116472', 15), ('2116476', 15), ('2116489', 15), ('2116491', 15), ('2116490', 15), ('2116461', 15), ('2116505', 16), ('2116493', 16), ('2116495', 16), ('2116500', 16), ('2116497', 16), ('2116496', 16), ('2116494', 16), ('2116498', 16), ('2116502', 16), ('2116508', 17), ('2116510', 17), ('2116499', 17), ('2116514', 17), ('2116506', 17), ('2116516', 17), ('2116512', 17), ('2116517', 17), ('2116501', 17), ('2116504', 18), ('2116507', 18), ('2116513', 18), ('2116511', 18), ('2116503', 18), ('2116515', 18), ('2116509', 18)]\n",
    "\n",
    "\n",
    "new_games = [x for x in games if x not in PREVIOUS]\n",
    "new_games"
   ]
  },
  {
   "attachments": {},
   "cell_type": "markdown",
   "metadata": {},
   "source": [
    "# Option 2: Get all the games with no browser\n",
    "\n",
    "Here we don't use a web-browser and we extract just all the games from the original source from items `matchId:<GAME-ID>`.\n",
    "\n",
    "With this solution the page gives ALL the game links, so we don't know what round each is."
   ]
  },
  {
   "cell_type": "code",
   "execution_count": null,
   "metadata": {},
   "outputs": [],
   "source": [
    "import re\n",
    "import bs4\n",
    "import requests\n",
    "from bs4 import BeautifulSoup # https://stackabuse.com/guide-to-parsing-html-with-beautifulsoup-in-python/"
   ]
  },
  {
   "cell_type": "code",
   "execution_count": null,
   "metadata": {},
   "outputs": [],
   "source": [
    "base_url = \"https://nbl.com.au/schedule\"\n",
    "params = dict()\n",
    "params[\"round\"] = \"3\"\n",
    "params[\"season\"] = \"35847\"\n",
    "# params[\"team\"] = \"3682\"\n",
    "\n",
    "r = requests.get(base_url, params=params)\n",
    "print(r.url)\n",
    "html_text = r.text\n",
    "\n",
    "soup = BeautifulSoup(html_text, 'html.parser')\n",
    "\n",
    "game_ids = set(re.findall(r'matchId:(\\d+)', html_text))\n",
    "print(\"Number of games extracted: \", len(game_ids))\n",
    "games = [(x, round if isinstance(round, int) else 0) for x in game_ids]\n",
    "print(games)"
   ]
  },
  {
   "attachments": {},
   "cell_type": "markdown",
   "metadata": {},
   "source": [
    "## Option 3: fully parsing HTML\n",
    "\n",
    "As of June 2023, the above methods do not seem to obtain the HTML page for the specific round, all games are there, so it is not possible to assign it to the round!\n",
    "\n",
    "However, on the HTML there is a call to the script managing the dropbox selection widgests and it has both the round ids, and each game associated to a round.\n",
    "\n",
    "For example, the HTML will contain this text encoding the rounds filtering:\n",
    "\n",
    "```\n",
    "roundsFilter: { name: \"Round\", queryLabel: \"round\", type: iN, dropdownOptions: [{ label: \"All Rounds\", value: \"Full\" }, { label: \"Round 1\", value: cW }, { label: \"Round 2\", value: dW }, { label: \"Round 3\", value: ep }, { label: \"Round 4\", value: eO }, { label: \"Round 5\", value: ea }, { label: \"Round 6\", value: eP }, { label: \"Round 7\", value: fI }, { label: \"Round 8\", value: ff }, { label: \"Round 9\", value: fg }, { label: \"Round 10\", value: fv }, { label: \"Round 11\", value: eQ }, { label: \"Round 12\", value: eA }, { label: \"Round 13\", value: fh }, { label: \"Round 14\", value: fw }, { label: \"Round 15\", value: eR }, { label: \"Round 16\", value: eS }, { label: \"Round 17\", value: eT }, { label: \"Round 18\", value: fx }, { label: \"Round 19\", value: fy }, { label: \"Round 20\", value: fi }] }\n",
    "```\n",
    "\n",
    "So, for example, Round 1 is code `cW`.  Then, each game is listed with its number and the round id (e.g., `cW`) in a list of matches.\n",
    "\n",
    "We then do full regular expression extraction and mapping of round ids to round numbers"
   ]
  },
  {
   "cell_type": "code",
   "execution_count": null,
   "metadata": {},
   "outputs": [],
   "source": [
    "# example: { label: \"Round 1\", value: cW }\n",
    "p1 = re.compile('{label:\"Round (.+?)\",value:(.+?)}')\n",
    "rounds_dict = {id : round for (round, id) in p1.findall(html_text)}\n",
    "\n",
    "# example: matches: [{ matchId: 1928319, ........, roundNumber: cw, .... }, ....]\n",
    "p2 = re.compile('matchId:(\\d+?),.*?,roundNumber:(.+?),')\n",
    "games_ids = p2.findall(html_text)\n",
    "games = [(g[0], rounds_dict[g[1]]) for g in p2.findall(html_text)]\n",
    "print(games)"
   ]
  },
  {
   "attachments": {},
   "cell_type": "markdown",
   "metadata": {},
   "source": [
    "## Playground"
   ]
  },
  {
   "cell_type": "code",
   "execution_count": null,
   "metadata": {},
   "outputs": [],
   "source": [
    "import re\n",
    "\n",
    "# Download geckodriver (https://github.com/mozilla/geckodriver/releases) and put it in path\n",
    "# Salenium webdriver: https://www.selenium.dev/documentation/overview/\n",
    "from selenium import webdriver\n",
    "from selenium.webdriver.firefox.options import Options\n",
    "\n",
    "# url = get_url(SEASON, rno)\n",
    "url = \"https://nbl.com.au/schedule?round=1&season=35847\"\n",
    "#url=\"https://bit.ly/3NhGZ9O\"\n",
    "\n",
    "# We need an actual browser so that the JavaScript is loaded and the links https://.../games/<game_id> are generated\n",
    "options = Options()\n",
    "options.headless = True\n",
    "options.page_load_strategy = 'eager'\n",
    "\n",
    "browser = webdriver.Firefox(options=options)\n",
    "# browser = webdriver.Chrome()\n",
    "# browser.maximize_window()\n",
    "\n",
    "print(f\"Extracting web HTML at \", url)\n",
    "# browser.get(url)\n",
    "browser.execute_script(url)\n",
    "html_text = browser.page_source\n",
    "\n",
    "\n",
    "with open(\"page_source.html\", \"w\") as f:\n",
    "    f.write(html_text)\n",
    "\n",
    "\n",
    "browser.quit()\n"
   ]
  }
 ],
 "metadata": {
  "kernelspec": {
   "display_name": "Python 3",
   "language": "python",
   "name": "python3"
  },
  "language_info": {
   "codemirror_mode": {
    "name": "ipython",
    "version": 3
   },
   "file_extension": ".py",
   "mimetype": "text/x-python",
   "name": "python",
   "nbconvert_exporter": "python",
   "pygments_lexer": "ipython3",
   "version": "3.10.6"
  },
  "orig_nbformat": 4,
  "vscode": {
   "interpreter": {
    "hash": "767d51c1340bd893661ea55ea3124f6de3c7a262a8b4abca0554b478b1e2ff90"
   }
  }
 },
 "nbformat": 4,
 "nbformat_minor": 2
}
