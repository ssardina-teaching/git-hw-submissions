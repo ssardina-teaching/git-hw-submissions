{
 "cells": [
  {
   "attachments": {},
   "cell_type": "markdown",
   "metadata": {},
   "source": [
    "# Process GitHub Classroom Students\n",
    "\n",
    "This script will delete, one by one, students with number `XXXX-1` which represent duplicates. Unfortunately, GH Classroom does not provide bulk deletion or API.\n",
    "\n",
    "It uses a Salenium Virtual browser.\n"
   ]
  },
  {
   "cell_type": "code",
   "execution_count": null,
   "metadata": {},
   "outputs": [],
   "source": [
    "import re\n",
    "import time\n",
    "\n",
    "# Download geckodriver (https://github.com/mozilla/geckodriver/releases) and put it in path\n",
    "# Salenium webdriver: https://www.selenium.dev/documentation/overview/\n",
    "from selenium import webdriver\n",
    "from selenium.webdriver.firefox.options import Options\n",
    "from selenium.webdriver.common.by import By"
   ]
  },
  {
   "cell_type": "markdown",
   "metadata": {},
   "source": [
    "Setup variables, including GH classroom to process and GH authentication credentials."
   ]
  },
  {
   "cell_type": "code",
   "execution_count": null,
   "metadata": {},
   "outputs": [],
   "source": [
    "CLASS_ID=\"59181697-test-course\"\n",
    "CLASS_ID=\"139094533-artificial-intelligence-2023\"\n",
    "\n",
    "def get_url(n):\n",
    "    return f\"https://classroom.github.com/classrooms/{CLASS_ID}/roster?roster_entries_page={n}\"\n",
    "\n",
    "\n",
    "USERNAME = '' #Github username - do not commit your own!\n",
    "PASSWORD = '' #Github password - do not commit your own!\n",
    "\n",
    "if USERNAME == '' or PASSWORD == '':\n",
    "    USERNAME = input(\"Enter username:\")\n",
    "    PASSWORD = input(\"Enter password:\")"
   ]
  },
  {
   "cell_type": "markdown",
   "metadata": {},
   "source": [
    "Open brower and authenticate to GH:"
   ]
  },
  {
   "cell_type": "code",
   "execution_count": null,
   "metadata": {},
   "outputs": [],
   "source": [
    "\n",
    "\n",
    "# We need an actual browser so that the JavaScript is loaded and the links https://.../games/<game_id> are generated\n",
    "options = Options()\n",
    "#options.headless = True\n",
    "browser = webdriver.Firefox(options=options)\n",
    "# browser = webdriver.Firefox(options=options, executable_path=r'C:\\Utility\\BrowserDrivers\\geckodriver.exe')\n",
    "current_page = 1\n",
    "\n",
    "url = get_url(current_page)\n",
    "print(f\"Extracting web HTML at \", url)\n",
    "browser.get(url)\n",
    "\n",
    "#authenticate:\n",
    "username = browser.find_element(By.NAME, 'login')\n",
    "username.send_keys(USERNAME)\n",
    "\n",
    "password = browser.find_element(By.NAME, 'password')\n",
    "password.send_keys(PASSWORD)\n",
    "\n",
    "form = browser.find_element(By.NAME,'commit')\n",
    "form.submit()\n",
    "time.sleep(10) #let the browser update before we continue\n"
   ]
  },
  {
   "cell_type": "markdown",
   "metadata": {},
   "source": [
    "Now do the deletion of users with number `XXXXX-1`, one by one:"
   ]
  },
  {
   "cell_type": "code",
   "execution_count": null,
   "metadata": {},
   "outputs": [],
   "source": [
    "\n",
    "continue_on_current_page = True\n",
    "# We want to delete all duplicate students from the current page before moving to the next one\n",
    "# We can't count up front, because the list dynamically changes as we remove duplicates\n",
    "# We loop on the current page until we do a full pass through the list and find no duplicates\n",
    "\n",
    "while continue_on_current_page: \n",
    "    continue_on_current_page = False\n",
    "    \n",
    "    # navigate back to the current page (it always resets to page 1 after deleting any student)\n",
    "    url = get_url(current_page)\n",
    "    browser.get(url)\n",
    "    time.sleep(2) #wait to ensure correct page has loaded\n",
    "\n",
    "\n",
    "    cards = browser.find_elements(By.CSS_SELECTOR,\"div.assignment-list-item.d-flex.col-12\")\n",
    "\n",
    "    if not cards: #if we hit a page with no students we are done and should stop.\n",
    "        break\n",
    "    \n",
    "    for card in cards:\n",
    "\n",
    "        try:\n",
    "            description = card.find_element(By.CSS_SELECTOR,\"h3.assignment-name-link.h4\")\n",
    "        except:\n",
    "            #print(\"No description.\")\n",
    "            continue #sometimes we find an element in the html which is not a student at all, in this case just go to the next one.\n",
    "        \n",
    "        #f the student is a duplicate, go through the button clicks to \n",
    "        if len(description.text)==9 and description.text[-2:]==\"-1\": \n",
    "            print(f\"deleting student: {description.text}\")\n",
    "            button = card.find_elements(By.CSS_SELECTOR, \"div.Button-withTooltip\")[1]\n",
    "            button.click()\n",
    "            time.sleep(2)\n",
    "            popup= card.find_element(By.CSS_SELECTOR,'input.btn.btn-danger.btn-block.js-submit')\n",
    "            popup.submit()\n",
    "            time.sleep(2)\n",
    "            continue_on_current_page = True #we found a duplicate so should stay on this page\n",
    "            break #the page has reverted to page 1 so we need to break and reload current page and rescrape list\n",
    "        else:\n",
    "            pass\n",
    "            #print(\"Not a duplicate\")\n",
    "\n",
    "    #if we made it to the end of the list with no duplicates, we should move on to the next page.\n",
    "    if continue_on_current_page == False: \n",
    "        current_page +=1\n",
    "        continue_on_current_page = True\n",
    "\n"
   ]
  }
 ],
 "metadata": {
  "kernelspec": {
   "display_name": "Python 3",
   "language": "python",
   "name": "python3"
  },
  "language_info": {
   "codemirror_mode": {
    "name": "ipython",
    "version": 3
   },
   "file_extension": ".py",
   "mimetype": "text/x-python",
   "name": "python",
   "nbconvert_exporter": "python",
   "pygments_lexer": "ipython3",
   "version": "3.10.6"
  },
  "orig_nbformat": 4,
  "vscode": {
   "interpreter": {
    "hash": "767d51c1340bd893661ea55ea3124f6de3c7a262a8b4abca0554b478b1e2ff90"
   }
  }
 },
 "nbformat": 4,
 "nbformat_minor": 2
}
