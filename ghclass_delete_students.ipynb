{
 "cells": [
  {
   "attachments": {},
   "cell_type": "markdown",
   "metadata": {},
   "source": [
    "# Extract Game Ids\n",
    "\n",
    "This notebook allows to extract the games id for a season in a round by inspecting the web pages of the form \n",
    "\n",
    "```\n",
    "https://nbl.com.au/schedule?round=<ROUND-ID>&season=<SEASON-ID>\n",
    "```\n",
    "\n",
    "For example this is pre-season for 2022-2033:\n",
    "\n",
    "https://nbl.com.au/schedule?round=PS&season=34173\n",
    "\n",
    "Those pages expose game links of the form `https://nbl.com.au/games/<GAME-ID>`, but only after Javascript has run. So, we need to use a virtual webdriver to actually browse the page (in silent) after that. We do this with module `selenium` that provides drivers for browsers. Here is [an explanation](https://stackoverflow.com/questions/11047348/is-this-possible-to-load-the-page-after-the-javascript-execute-using-python) how to load a page after Javascript has executed.\n",
    "\n",
    "**Note:** the original page, before Javascript, will also expose the game ids in structures of the form `matchId:<GAME-ID>`, but it will give all of them of the season, without filtering on the round.\n"
   ]
  },
  {
   "attachments": {},
   "cell_type": "markdown",
   "metadata": {},
   "source": [
    "## Option 1: Via Salenium virtual browser"
   ]
  },
  {
   "cell_type": "code",
   "execution_count": 1,
   "metadata": {},
   "outputs": [],
   "source": [
    "import re\n",
    "import time\n",
    "\n",
    "# Download geckodriver (https://github.com/mozilla/geckodriver/releases) and put it in path\n",
    "# Salenium webdriver: https://www.selenium.dev/documentation/overview/\n",
    "from selenium import webdriver\n",
    "from selenium.webdriver.firefox.options import Options\n",
    "from selenium.webdriver.common.by import By"
   ]
  },
  {
   "cell_type": "code",
   "execution_count": 2,
   "metadata": {},
   "outputs": [],
   "source": [
    "def get_url(n):\n",
    "    return f\"https://classroom.github.com/classrooms/59181697-test-course/roster?roster_entries_page={n}\"\n",
    "\n",
    "\n",
    "USERNAME = '' #Github username - do not commit your own!\n",
    "PASSWORD = '' #Github password - do not commit your own!"
   ]
  },
  {
   "cell_type": "code",
   "execution_count": 3,
   "metadata": {},
   "outputs": [
    {
     "name": "stdout",
     "output_type": "stream",
     "text": [
      "Extracting web HTML at  https://classroom.github.com/classrooms/139094533-artificial-intelligence-2023/roster?roster_entries_page=2\n"
     ]
    }
   ],
   "source": [
    "\n",
    "\n",
    "# We need an actual browser so that the JavaScript is loaded and the links https://.../games/<game_id> are generated\n",
    "options = Options()\n",
    "#options.headless = True\n",
    "browser = webdriver.Firefox(options=options)\n",
    "# browser = webdriver.Firefox(options=options, executable_path=r'C:\\Utility\\BrowserDrivers\\geckodriver.exe')\n",
    "current_page = 1\n",
    "\n",
    "url = get_url(current_page)\n",
    "print(f\"Extracting web HTML at \", url)\n",
    "browser.get(url)\n",
    "\n",
    "#authenticate:\n",
    "username = browser.find_element(By.NAME, 'login')\n",
    "username.send_keys(USERNAME)\n",
    "\n",
    "password = browser.find_element(By.NAME, 'password')\n",
    "password.send_keys(PASSWORD)\n",
    "\n",
    "form = browser.find_element(By.NAME,'commit')\n",
    "form.submit()\n",
    "time.sleep(10) #let the browser update before we continue\n"
   ]
  },
  {
   "cell_type": "code",
   "execution_count": 15,
   "metadata": {},
   "outputs": [
    {
     "name": "stdout",
     "output_type": "stream",
     "text": [
      "Not a duplicate\n",
      "Not a duplicate\n",
      "3607359-1\n",
      "No description.\n",
      "Not a duplicate\n",
      "Not a duplicate\n",
      "3618845-1\n",
      "No description.\n",
      "Not a duplicate\n",
      "Not a duplicate\n",
      "Not a duplicate\n",
      "3668498-1\n",
      "No description.\n",
      "Not a duplicate\n",
      "3676400-1\n",
      "No description.\n",
      "Not a duplicate\n",
      "Not a duplicate\n",
      "Not a duplicate\n",
      "3687137-1\n",
      "No description.\n",
      "Not a duplicate\n",
      "3695517-1\n",
      "No description.\n",
      "Not a duplicate\n",
      "3704571-1\n",
      "No description.\n",
      "No description.\n",
      "No description.\n"
     ]
    }
   ],
   "source": [
    "\n",
    "continue_on_current_page = True\n",
    "# We want to delete all duplicate students from the current page before moving to the next one\n",
    "# We can't count up front, because the list dynamically changes as we remove duplicates\n",
    "# We loop on the current page until we do a full pass through the list and find no duplicates\n",
    "\n",
    "while continue_on_current_page: \n",
    "    continue_on_current_page = False\n",
    "    \n",
    "    # navigate back to the current page (it always resets to page 1 after deleting any student)\n",
    "    url = get_url(current_page)\n",
    "    browser.get(url)\n",
    "    time.sleep(2) #wait to ensure correct page has loaded\n",
    "\n",
    "\n",
    "    cards = browser.find_elements(By.CSS_SELECTOR,\"div.assignment-list-item.d-flex.col-12\")\n",
    "\n",
    "    if not cards: #if we hit a page with no students we are done and should stop.\n",
    "        break\n",
    "    \n",
    "    for card in cards:\n",
    "\n",
    "        try:\n",
    "            description = card.find_element(By.CSS_SELECTOR,\"h3.assignment-name-link.h4\")\n",
    "        except:\n",
    "            #print(\"No description.\")\n",
    "            continue #sometimes we find an element in the html which is not a student at all, in this case just go to the next one.\n",
    "        \n",
    "        #f the student is a duplicate, go through the button clicks to \n",
    "        if len(description.text)==9 and description.text[-2:]==\"-1\": \n",
    "            print(f\"deleting student: {description.text}\")\n",
    "            button = card.find_elements(By.CSS_SELECTOR, \"div.Button-withTooltip\")[1]\n",
    "            button.click()\n",
    "            time.sleep(2)\n",
    "            popup= card.find_element(By.CSS_SELECTOR,'input.btn.btn-danger.btn-block.js-submit')\n",
    "            popup.submit()\n",
    "            time.sleep(2)\n",
    "            continue_on_current_page = True #we found a duplicate so should stay on this page\n",
    "            break #the page has reverted to page 1 so we need to break and reload current page and rescrape list\n",
    "        else:\n",
    "            pass\n",
    "            #print(\"Not a duplicate\")\n",
    "\n",
    "    #if we made it to the end of the list with no duplicates, we should move on to the next page.\n",
    "    if continue_on_current_page == False: \n",
    "        current_page +=1\n",
    "        continue_on_current_page = True\n",
    "\n"
   ]
  }
 ],
 "metadata": {
  "kernelspec": {
   "display_name": "Python 3",
   "language": "python",
   "name": "python3"
  },
  "language_info": {
   "codemirror_mode": {
    "name": "ipython",
    "version": 3
   },
   "file_extension": ".py",
   "mimetype": "text/x-python",
   "name": "python",
   "nbconvert_exporter": "python",
   "pygments_lexer": "ipython3",
   "version": "3.9.13"
  },
  "orig_nbformat": 4,
  "vscode": {
   "interpreter": {
    "hash": "767d51c1340bd893661ea55ea3124f6de3c7a262a8b4abca0554b478b1e2ff90"
   }
  }
 },
 "nbformat": 4,
 "nbformat_minor": 2
}
