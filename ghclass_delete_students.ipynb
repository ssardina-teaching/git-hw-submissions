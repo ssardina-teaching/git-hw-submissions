{
 "cells": [
  {
   "attachments": {},
   "cell_type": "markdown",
   "metadata": {},
   "source": [
    "# Extract Game Ids\n",
    "\n",
    "This notebook allows to extract the games id for a season in a round by inspecting the web pages of the form \n",
    "\n",
    "```\n",
    "https://nbl.com.au/schedule?round=<ROUND-ID>&season=<SEASON-ID>\n",
    "```\n",
    "\n",
    "For example this is pre-season for 2022-2033:\n",
    "\n",
    "https://nbl.com.au/schedule?round=PS&season=34173\n",
    "\n",
    "Those pages expose game links of the form `https://nbl.com.au/games/<GAME-ID>`, but only after Javascript has run. So, we need to use a virtual webdriver to actually browse the page (in silent) after that. We do this with module `selenium` that provides drivers for browsers. Here is [an explanation](https://stackoverflow.com/questions/11047348/is-this-possible-to-load-the-page-after-the-javascript-execute-using-python) how to load a page after Javascript has executed.\n",
    "\n",
    "**Note:** the original page, before Javascript, will also expose the game ids in structures of the form `matchId:<GAME-ID>`, but it will give all of them of the season, without filtering on the round.\n"
   ]
  },
  {
   "attachments": {},
   "cell_type": "markdown",
   "metadata": {},
   "source": [
    "## Option 1: Via Salenium virtual browser"
   ]
  },
  {
   "cell_type": "code",
   "execution_count": 1,
   "metadata": {},
   "outputs": [],
   "source": [
    "import re\n",
    "\n",
    "# Download geckodriver (https://github.com/mozilla/geckodriver/releases) and put it in path\n",
    "# Salenium webdriver: https://www.selenium.dev/documentation/overview/\n",
    "from selenium import webdriver\n",
    "from selenium.webdriver.firefox.options import Options\n",
    "from selenium.webdriver.common.by import By"
   ]
  },
  {
   "cell_type": "code",
   "execution_count": 2,
   "metadata": {},
   "outputs": [],
   "source": [
    "def get_url(n):\n",
    "    return f\"https://classroom.github.com/classrooms/139094533-artificial-intelligence-2023/roster?roster_entries_page={n}\"\n",
    "\n",
    "\n",
    "USERNAME = '' #Github username - do not commit your own!\n",
    "PASSWORD = '' #Github password - do not commit your own!"
   ]
  },
  {
   "cell_type": "code",
   "execution_count": 3,
   "metadata": {},
   "outputs": [
    {
     "name": "stdout",
     "output_type": "stream",
     "text": [
      "Extracting web HTML at  https://classroom.github.com/classrooms/139094533-artificial-intelligence-2023/roster?roster_entries_page=2\n"
     ]
    }
   ],
   "source": [
    "\n",
    "\n",
    "# We need an actual browser so that the JavaScript is loaded and the links https://.../games/<game_id> are generated\n",
    "options = Options()\n",
    "#options.headless = True\n",
    "browser = webdriver.Firefox(options=options)\n",
    "# browser = webdriver.Firefox(options=options, executable_path=r'C:\\Utility\\BrowserDrivers\\geckodriver.exe')\n",
    "\n",
    "html_texts = []\n",
    "\n",
    "#for rno in ROUNDS:\n",
    "url = get_url(2)\n",
    "print(f\"Extracting web HTML at \", url)\n",
    "browser.get(url)\n",
    "\n",
    "#authenticate:\n",
    "username = browser.find_element(By.NAME, 'login')\n",
    "username.send_keys(USERNAME)\n",
    "\n",
    "password = browser.find_element(By.NAME, 'password')\n",
    "password.send_keys(PASSWORD)\n",
    "\n",
    "form = browser.find_element(By.NAME,'commit')\n",
    "form.submit()\n",
    "\n",
    "\n",
    "html_text = browser.page_source\n"
   ]
  },
  {
   "cell_type": "code",
   "execution_count": 15,
   "metadata": {},
   "outputs": [
    {
     "name": "stdout",
     "output_type": "stream",
     "text": [
      "Not a duplicate\n",
      "Not a duplicate\n",
      "3607359-1\n",
      "No description.\n",
      "Not a duplicate\n",
      "Not a duplicate\n",
      "3618845-1\n",
      "No description.\n",
      "Not a duplicate\n",
      "Not a duplicate\n",
      "Not a duplicate\n",
      "3668498-1\n",
      "No description.\n",
      "Not a duplicate\n",
      "3676400-1\n",
      "No description.\n",
      "Not a duplicate\n",
      "Not a duplicate\n",
      "Not a duplicate\n",
      "3687137-1\n",
      "No description.\n",
      "Not a duplicate\n",
      "3695517-1\n",
      "No description.\n",
      "Not a duplicate\n",
      "3704571-1\n",
      "No description.\n",
      "No description.\n",
      "No description.\n"
     ]
    }
   ],
   "source": [
    "#print(html_text)\n",
    "\n",
    "#Get the list of students\n",
    "cards = browser.find_elements(By.CSS_SELECTOR,\"div.assignment-list-item.d-flex.col-12\")\n",
    "\n",
    "len(cards)\n",
    "for card in cards:\n",
    "\n",
    "    #Make sure it is a student with an id, we seem to be picking up some other elements in the page.\n",
    "    try:\n",
    "        description = card.find_element(By.CSS_SELECTOR,\"h3.assignment-name-link.h4\")  \n",
    "    except:\n",
    "        print(\"No description.\")\n",
    "    \n",
    "    #Check to see if it is a duplicate (is 9 digits long with a -1 at the end), and if so, delete then confirm.\n",
    "    if len(description.text)==9 and description.text[-2:]==\"-1\":\n",
    "        print(description.text)\n",
    "        button = card.find_elements(By.CSS_SELECTOR, \"div.Button-withTooltip\")[1]\n",
    "        button.click()\n",
    "\n",
    "        popup= browser.find_element(By.CSS_SELECTOR,'input.btn.btn-danger.btn-block.js-submit')\n",
    "        \n",
    "        #DANGER! The following line of code seems to delete the wrong student, do not run until fixed!\n",
    "        #popup.submit() \n",
    "    else:\n",
    "        print(\"Not a duplicate\")\n",
    "\n"
   ]
  }
 ],
 "metadata": {
  "kernelspec": {
   "display_name": "Python 3",
   "language": "python",
   "name": "python3"
  },
  "language_info": {
   "codemirror_mode": {
    "name": "ipython",
    "version": 3
   },
   "file_extension": ".py",
   "mimetype": "text/x-python",
   "name": "python",
   "nbconvert_exporter": "python",
   "pygments_lexer": "ipython3",
   "version": "3.9.13"
  },
  "orig_nbformat": 4,
  "vscode": {
   "interpreter": {
    "hash": "767d51c1340bd893661ea55ea3124f6de3c7a262a8b4abca0554b478b1e2ff90"
   }
  }
 },
 "nbformat": 4,
 "nbformat_minor": 2
}
