{
 "cells": [
  {
   "attachments": {},
   "cell_type": "markdown",
   "metadata": {},
   "source": [
    "# Download Student Roster from GitHub Classroom\n",
    "\n",
    "As of July 2023, th download roster button does not seem to work. Tried with this but also clicking does nothing.\n",
    "\n",
    "It uses a Salenium Virtual browser."
   ]
  },
  {
   "cell_type": "code",
   "execution_count": 1,
   "metadata": {},
   "outputs": [],
   "source": [
    "import re\n",
    "import time\n",
    "\n",
    "# Download geckodriver (https://github.com/mozilla/geckodriver/releases) and put it in path\n",
    "# Salenium webdriver: https://www.selenium.dev/documentation/overview/\n",
    "from selenium import webdriver\n",
    "from selenium.webdriver.firefox.options import Options\n",
    "from selenium.webdriver.common.by import By"
   ]
  },
  {
   "cell_type": "markdown",
   "metadata": {},
   "source": [
    "Setup variables, including GH classroom to process and GH authentication credentials."
   ]
  },
  {
   "cell_type": "code",
   "execution_count": 2,
   "metadata": {},
   "outputs": [],
   "source": [
    "CLASS_ID=\"59181697-test-course\"\n",
    "CLASS_ID=\"139094533-artificial-intelligence-2023\"\n",
    "\n",
    "def get_url(n):\n",
    "    return f\"https://classroom.github.com/classrooms/{CLASS_ID}/roster?roster_entries_page={n}\"\n",
    "\n",
    "\n",
    "USERNAME = '' #Github username - do not commit your own!\n",
    "PASSWORD = '' #Github password - do not commit your own!\n",
    "\n",
    "if USERNAME == '' or PASSWORD == '':\n",
    "    USERNAME = input(\"Enter username:\")\n",
    "    PASSWORD = input(\"Enter password:\")"
   ]
  },
  {
   "cell_type": "markdown",
   "metadata": {},
   "source": [
    "Open brower and authenticate to GH:"
   ]
  },
  {
   "cell_type": "code",
   "execution_count": 3,
   "metadata": {},
   "outputs": [
    {
     "name": "stdout",
     "output_type": "stream",
     "text": [
      "Extracting web HTML at  https://classroom.github.com/classrooms/139094533-artificial-intelligence-2023/roster?roster_entries_page=1\n"
     ]
    }
   ],
   "source": [
    "\n",
    "\n",
    "# We need an actual browser so that the JavaScript is loaded and the links https://.../games/<game_id> are generated\n",
    "options = Options()\n",
    "#options.headless = True\n",
    "browser = webdriver.Firefox(options=options)\n",
    "# browser = webdriver.Firefox(options=options, executable_path=r'C:\\Utility\\BrowserDrivers\\geckodriver.exe')\n",
    "current_page = 1\n",
    "\n",
    "url = get_url(current_page)\n",
    "print(f\"Extracting web HTML at \", url)\n",
    "browser.get(url)\n",
    "\n",
    "#authenticate:\n",
    "username = browser.find_element(By.NAME, 'login')\n",
    "username.send_keys(USERNAME)\n",
    "\n",
    "password = browser.find_element(By.NAME, 'password')\n",
    "password.send_keys(PASSWORD)\n",
    "\n",
    "form = browser.find_element(By.NAME,'commit')\n",
    "form.submit()\n",
    "time.sleep(10) #let the browser update before we continue\n"
   ]
  },
  {
   "cell_type": "markdown",
   "metadata": {},
   "source": [
    "Now we try the download roster button.\n",
    "\n",
    "Here is the related HTML to that:\n",
    "\n",
    "```html\n",
    "                               <div class=\"Overlay--hidden Overlay-backdrop--center\" data-modal-dialog-overlay>\n",
    "                                    <modal-dialog role=\"dialog\" id=\"download-roster-csv\" aria-modal=\"true\"\n",
    "                                        aria-disabled=\"true\"\n",
    "                                        aria-describedby=\"download-roster-csv-title download-roster-csv-description\"\n",
    "                                        data-view-component=\"true\"\n",
    "                                        class=\"Overlay Overlay-whenNarrow Overlay--size-medium-portrait Overlay--motion-scaleFade\">\n",
    "                                        <div data-view-component=\"true\" class=\"Overlay-header Overlay-header--divided\">\n",
    "                                            <div class=\"Overlay-headerContentWrap\">\n",
    "                                                <div class=\"Overlay-titleWrap\">\n",
    "                                                    <h1 class=\"Overlay-title \" id=\"download-roster-csv-title\">\n",
    "                                                        Download student roster\n",
    "                                                    </h1>\n",
    "                                                </div>\n",
    "                                                <div class=\"Overlay-actionWrap\">\n",
    "                                                    <button data-close-dialog-id=\"download-roster-csv\"\n",
    "                                                        aria-label=\"Close\" type=\"button\" data-view-component=\"true\"\n",
    "                                                        class=\"close-button Overlay-closeButton\"><svg aria-hidden=\"true\"\n",
    "                                                            height=\"16\" viewBox=\"0 0 16 16\" version=\"1.1\" width=\"16\"\n",
    "                                                            data-view-component=\"true\" class=\"octicon octicon-x\">\n",
    "                                                            <path\n",
    "                                                                d=\"M3.72 3.72a.75.75 0 0 1 1.06 0L8 6.94l3.22-3.22a.749.749 0 0 1 1.275.326.749.749 0 0 1-.215.734L9.06 8l3.22 3.22a.749.749 0 0 1-.326 1.275.749.749 0 0 1-.734-.215L8 9.06l-3.22 3.22a.751.751 0 0 1-1.042-.018.751.751 0 0 1-.018-1.042L6.94 8 3.72 4.78a.75.75 0 0 1 0-1.06Z\">\n",
    "                                                            </path>\n",
    "                                                        </svg></button>\n",
    "                                                </div>\n",
    "                                            </div>\n",
    "                                        </div>\n",
    "                                        <div data-view-component=\"true\" class=\"Overlay-body\"> <button align=\"start\"\n",
    "                                                type=\"button\" data-view-component=\"true\"\n",
    "                                                class=\"Button--secondary Button--medium Button Button--fullWidth mb-2\">\n",
    "                                                <span class=\"Button-content\">\n",
    "                                                    <span class=\"Button-label\">Download roster</span>\n",
    "                                                    <span class=\"Button-visual Button-trailingVisual\">\n",
    "                                                        <svg aria-hidden=\"true\" height=\"16\" viewBox=\"0 0 16 16\"\n",
    "                                                            version=\"1.1\" width=\"16\" data-view-component=\"true\"\n",
    "                                                            class=\"octicon octicon-download\">\n",
    "                                                            <path\n",
    "                                                                d=\"M2.75 14A1.75 1.75 0 0 1 1 12.25v-2.5a.75.75 0 0 1 1.5 0v2.5c0 .138.112.25.25.25h10.5a.25.25 0 0 0 .25-.25v-2.5a.75.75 0 0 1 1.5 0v2.5A1.75 1.75 0 0 1 13.25 14Z\">\n",
    "                                                            </path>\n",
    "                                                            <path\n",
    "                                                                d=\"M7.25 7.689V2a.75.75 0 0 1 1.5 0v5.689l1.97-1.969a.749.749 0 1 1 1.06 1.06l-3.25 3.25a.749.749 0 0 1-1.06 0L4.22 6.78a.749.749 0 1 1 1.06-1.06l1.97 1.969Z\">\n",
    "                                                            </path>\n",
    "                                                        </svg>\n",
    "                                                    </span>\n",
    "                                                </span>\n",
    "                                            </button>\n",
    "\n",
    "                                        </div>\n",
    "                                        <div data-view-component=\"true\"\n",
    "                                            class=\"Overlay-footer Overlay-footer--alignEnd Overlay-footer--divided\">\n",
    "                                            <button data-close-dialog-id=\"download-roster-csv\" type=\"button\"\n",
    "                                                data-view-component=\"true\" class=\"btn-primary btn\"> Done\n",
    "                                            </button>\n",
    "                                        </div>\n",
    "                                    </modal-dialog>\n",
    "                                </div>\n",
    "```"
   ]
  },
  {
   "cell_type": "code",
   "execution_count": 24,
   "metadata": {},
   "outputs": [],
   "source": [
    "url = get_url(current_page)\n",
    "browser.get(url)\n",
    "time.sleep(2) #wait to ensure correct page has loaded\n",
    "\n",
    "\n",
    "button = browser.find_element(By.ID, \"dialog-show-download-roster-csv\")\n",
    "button.click()\n",
    "\n",
    "\n"
   ]
  },
  {
   "cell_type": "code",
   "execution_count": 28,
   "metadata": {},
   "outputs": [],
   "source": [
    "\n",
    "# button2 = browser.find_element(By.XPATH, \"/html/body/main/div[4]/section[1]/div/div[1]/h2/div/div[2]/modal-dialog/div[2]/button/span\")\n",
    "button2 = browser.find_element(By.XPATH, \"/html/body/main/div[4]/section[1]/div/div[1]/h2/div/div[2]/modal-dialog/div[2]/button\")\n",
    "button2.click()\n"
   ]
  }
 ],
 "metadata": {
  "kernelspec": {
   "display_name": "Python 3",
   "language": "python",
   "name": "python3"
  },
  "language_info": {
   "codemirror_mode": {
    "name": "ipython",
    "version": 3
   },
   "file_extension": ".py",
   "mimetype": "text/x-python",
   "name": "python",
   "nbconvert_exporter": "python",
   "pygments_lexer": "ipython3",
   "version": "3.10.6"
  },
  "orig_nbformat": 4,
  "vscode": {
   "interpreter": {
    "hash": "767d51c1340bd893661ea55ea3124f6de3c7a262a8b4abca0554b478b1e2ff90"
   }
  }
 },
 "nbformat": 4,
 "nbformat_minor": 2
}
